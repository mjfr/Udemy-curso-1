{
 "cells": [
  {
   "cell_type": "markdown",
   "metadata": {},
   "source": [
    "# Funções e métodos - Trabalho de casa\n",
    "\n",
    "Responda as seguintes perguntas:\n",
    "____\n",
    "**Escreva uma função que calcula o volume de uma esfera dado seu raio.**"
   ]
  },
  {
   "cell_type": "code",
   "execution_count": 6,
   "metadata": {
    "collapsed": true
   },
   "outputs": [
    {
     "data": {
      "text/plain": [
       "28716.346666666668"
      ]
     },
     "execution_count": 6,
     "metadata": {},
     "output_type": "execute_result"
    }
   ],
   "source": [
    "def vol(rad):\n",
    "    return 4 * 3.14 * (rad**3)/3"
   ]
  },
  {
   "cell_type": "code",
   "execution_count": 20,
   "metadata": {},
   "outputs": [
    {
     "data": {
      "text/plain": [
       "523.3333333333334"
      ]
     },
     "execution_count": 20,
     "metadata": {},
     "output_type": "execute_result"
    }
   ],
   "source": [
    "vol(5)"
   ]
  },
  {
   "cell_type": "markdown",
   "metadata": {},
   "source": [
    "**Escreva uma função que verifica se um número está em um determinado intervalo (inclusive o máximo e mínimo)**"
   ]
  },
  {
   "cell_type": "code",
   "execution_count": 5,
   "metadata": {
    "collapsed": true
   },
   "outputs": [
    {
     "name": "stdout",
     "output_type": "stream",
     "text": [
      "Não está no intervalo\n",
      "Está no intervalo.\n"
     ]
    }
   ],
   "source": [
    "def ran_check(num,low,high):\n",
    "    if low <= num <= high:\n",
    "        print('Está no intervalo.')\n",
    "    else:\n",
    "        print('Não está no intervalo')"
   ]
  },
  {
   "cell_type": "code",
   "execution_count": 57,
   "metadata": {},
   "outputs": [
    {
     "name": "stdout",
     "output_type": "stream",
     "text": [
      "Está no intervalo.\n"
     ]
    }
   ],
   "source": [
    "ran_check(3, 1, 10)"
   ]
  },
  {
   "cell_type": "markdown",
   "metadata": {},
   "source": [
    "Se você quisesse apenas retornar um booleano:"
   ]
  },
  {
   "cell_type": "code",
   "execution_count": 15,
   "metadata": {
    "collapsed": true
   },
   "outputs": [
    {
     "data": {
      "text/plain": [
       "True"
      ]
     },
     "execution_count": 15,
     "metadata": {},
     "output_type": "execute_result"
    }
   ],
   "source": [
    "def ran_bool(num,low,high):\n",
    "    return low <= num <= high"
   ]
  },
  {
   "cell_type": "code",
   "execution_count": 16,
   "metadata": {},
   "outputs": [
    {
     "data": {
      "text/plain": [
       "True"
      ]
     },
     "execution_count": 16,
     "metadata": {},
     "output_type": "execute_result"
    }
   ],
   "source": [
    "ran_bool(3,1,10)"
   ]
  },
  {
   "cell_type": "markdown",
   "metadata": {},
   "source": [
    "** Escreva uma função Python que aceita uma string e calcule o número de maiúsculas e minúsculas. **\n",
    "\n",
    "     Exemplo de Cadeia: 'Olá Sr. Rogers, como você está bem, terça-feira?'\n",
    "     Saída esperada:\n",
    "     Número de caracteres maiúsculas: 3\n",
    "     Número de caracteres minúsculos: 33\n",
    "\n",
    "Se você se sentir ambicioso, explore o módulo de Coleções para resolver esse problema!"
   ]
  },
  {
   "cell_type": "code",
   "execution_count": 60,
   "metadata": {
    "collapsed": true
   },
   "outputs": [],
   "source": [
    "def up_low(s):\n",
    "    upper = 0\n",
    "    lower = 0\n",
    "    for palavra in range(len(s)):\n",
    "        if s[palavra].isupper():\n",
    "            upper += 1\n",
    "        elif s[palavra].islower():\n",
    "            lower += 1\n",
    "    print('Número de caracteres maíusculos: {0}\\nNúmero de caracteres minúsculos: {1}'.format(upper, lower))"
   ]
  },
  {
   "cell_type": "code",
   "execution_count": 61,
   "metadata": {},
   "outputs": [
    {
     "name": "stdout",
     "output_type": "stream",
     "text": [
      "Número de caracteres maíusculos: 3\n",
      "Número de caracteres minúsculos: 33\n"
     ]
    }
   ],
   "source": [
    "up_low('Olá Sr. Rogers, como você está bem, terça-feira?')"
   ]
  },
  {
   "cell_type": "markdown",
   "metadata": {},
   "source": [
    "** Escreva uma função Python que recebe uma lista e retorna uma nova lista com elementos exclusivos da primeira lista. **\n",
    "\n",
    "     Lista de Amostras: [1,1,1,1,2,2,3,3,3,3,4,5]\n",
    "     Lista única: [1, 2, 3, 4, 5]"
   ]
  },
  {
   "cell_type": "code",
   "execution_count": 30,
   "metadata": {
    "collapsed": true
   },
   "outputs": [],
   "source": [
    "def unique_list(l):\n",
    "    return list(set(l))"
   ]
  },
  {
   "cell_type": "code",
   "execution_count": 31,
   "metadata": {},
   "outputs": [
    {
     "data": {
      "text/plain": [
       "[1, 2, 3, 4, 5]"
      ]
     },
     "execution_count": 31,
     "metadata": {},
     "output_type": "execute_result"
    }
   ],
   "source": [
    "unique_list([1,1,1,1,2,2,3,3,3,3,4,5])"
   ]
  },
  {
   "cell_type": "markdown",
   "metadata": {},
   "source": [
    "** Escreva uma função Python para multiplicar todos os números em uma lista. **\n",
    "\n",
    "     Lista de exemplos: [1, 2, 3, -4]\n",
    "     Saída esperada: -24"
   ]
  },
  {
   "cell_type": "code",
   "execution_count": 40,
   "metadata": {
    "collapsed": true
   },
   "outputs": [],
   "source": [
    "def multiply(numbers):\n",
    "    multi = 1\n",
    "    for i in range(len(numbers)):\n",
    "        multi *= numbers[i]\n",
    "    return multi"
   ]
  },
  {
   "cell_type": "code",
   "execution_count": 43,
   "metadata": {},
   "outputs": [
    {
     "data": {
      "text/plain": [
       "-24"
      ]
     },
     "execution_count": 43,
     "metadata": {},
     "output_type": "execute_result"
    }
   ],
   "source": [
    "multiply([1,2,3,-4])"
   ]
  },
  {
   "cell_type": "markdown",
   "metadata": {},
   "source": [
    "** Escreva uma função Python que verifica se uma string passada é palindrome ou não. **\n",
    "\n",
    "Nota: Um palíndromo é palavra, frase ou seqüência que lê o mesmo para trás."
   ]
  },
  {
   "cell_type": "code",
   "execution_count": 44,
   "metadata": {
    "collapsed": true
   },
   "outputs": [],
   "source": [
    "def palindrome(s):\n",
    "    return s == s[::-1]"
   ]
  },
  {
   "cell_type": "code",
   "execution_count": 47,
   "metadata": {},
   "outputs": [
    {
     "data": {
      "text/plain": [
       "True"
      ]
     },
     "execution_count": 47,
     "metadata": {},
     "output_type": "execute_result"
    }
   ],
   "source": [
    "palindrome('helleh')"
   ]
  },
  {
   "cell_type": "markdown",
   "metadata": {},
   "source": [
    "**Difícil**:\n",
    "\n",
    "Escreva uma função Python para verificar se uma string é um pangrama ou não.\n",
    "\n",
    "     Nota: Pangramas são palavras ou frases contendo cada letra do alfabeto pelo menos uma vez.\n",
    "\n",
    "Dica: veja o módulo de strings"
   ]
  },
  {
   "cell_type": "code",
   "execution_count": 62,
   "metadata": {
    "collapsed": true
   },
   "outputs": [],
   "source": [
    "import string\n",
    "\n",
    "def ispangram(str1, alphabet=string.ascii_lowercase):\n",
    "    for i in range(len(alphabet)):\n",
    "        if str1.count(alphabet[i]) == 0:\n",
    "            return False\n",
    "    else:\n",
    "        return True"
   ]
  },
  {
   "cell_type": "code",
   "execution_count": 63,
   "metadata": {},
   "outputs": [
    {
     "data": {
      "text/plain": [
       "True"
      ]
     },
     "execution_count": 63,
     "metadata": {},
     "output_type": "execute_result"
    }
   ],
   "source": [
    "ispangram(\"The quick brown fox jumps over the lazy dog\")"
   ]
  },
  {
   "cell_type": "code",
   "execution_count": 23,
   "metadata": {},
   "outputs": [
    {
     "data": {
      "text/plain": [
       "'abcdefghijklmnopqrstuvwxyz'"
      ]
     },
     "execution_count": 23,
     "metadata": {},
     "output_type": "execute_result"
    }
   ],
   "source": [
    "string.ascii_lowercase"
   ]
  }
 ],
 "metadata": {
  "kernelspec": {
   "display_name": "Python 3",
   "language": "python",
   "name": "python3"
  },
  "language_info": {
   "codemirror_mode": {
    "name": "ipython",
    "version": 3
   },
   "file_extension": ".py",
   "mimetype": "text/x-python",
   "name": "python",
   "nbconvert_exporter": "python",
   "pygments_lexer": "ipython3",
   "version": "3.10.0"
  }
 },
 "nbformat": 4,
 "nbformat_minor": 1
}
